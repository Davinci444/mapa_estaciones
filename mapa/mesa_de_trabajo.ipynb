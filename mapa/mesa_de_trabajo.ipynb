{
 "cells": [
  {
   "cell_type": "code",
   "execution_count": 1,
   "id": "8e4cdc78-644d-4cea-a212-87831288246d",
   "metadata": {},
   "outputs": [
    {
     "name": "stdout",
     "output_type": "stream",
     "text": [
      "Datos cargados exitosamente:\n",
      "                Estacion     Ciudad Centro de Costo  Precio  \\\n",
      "0       EDS EL MANANTIAL    TURBACO         BOLÍVAR    9980   \n",
      "1         EDS ASTILLEROS  CARTAGENA         BOLÍVAR    9980   \n",
      "2        EDS VARIANTE OT    TURBACO         BOLÍVAR    9990   \n",
      "3  EDS TERPEL MAMONAL-OT  CARTAGENA         BOLÍVAR    9990   \n",
      "4         EDS PUNTA CANA  CARTAGENA         BOLÍVAR   10000   \n",
      "\n",
      "             Fecha del Precio Producto    Latitud   Longitud  \n",
      "0  2025-07-30 00:28:15.459000   Diesel  10.389279 -75.449590  \n",
      "1  2025-07-30 05:34:01.592000   Diesel  10.365844 -75.508217  \n",
      "2  2025-07-30 05:36:59.791000   Diesel  10.395421 -75.447374  \n",
      "3  2025-07-30 00:04:38.095000   Diesel  10.307414 -75.483040  \n",
      "4  2025-07-30 00:06:55.032000   Diesel  10.353596 -75.475958  \n",
      "\n",
      "¡Mapa generado con éxito! Busca el archivo 'mapa_estaciones.html' en tu carpeta.\n"
     ]
    }
   ],
   "source": [
    "import pandas as pd\n",
    "import folium\n",
    "\n",
    "# Cargar el archivo Excel.\n",
    "# Asegúrate de que 'estaciones_mapa.xlsx' esté en la misma carpeta que tu notebook.\n",
    "try:\n",
    "    df = pd.read_excel('estaciones_mapa.xlsx')\n",
    "\n",
    "    # Muestra las primeras 5 filas para verificar que todo está correcto\n",
    "    print(\"Datos cargados exitosamente:\")\n",
    "    print(df.head())\n",
    "\n",
    "    # --- Creación del mapa ---\n",
    "\n",
    "    # Crear un mapa centrado en una ubicación aproximada (Cartagena/Turbaco)\n",
    "    mapa = folium.Map(location=[10.36, -75.46], zoom_start=12)\n",
    "\n",
    "    # Añadir un marcador por cada estación de servicio\n",
    "    for index, estacion in df.iterrows():\n",
    "        # Verificamos que las coordenadas no estén vacías\n",
    "        if pd.notna(estacion['Latitud']) and pd.notna(estacion['Longitud']):\n",
    "            folium.Marker(\n",
    "                location=[estacion['Latitud'], estacion['Longitud']],\n",
    "                popup=f\"<strong>{estacion['Estacion']}</strong><br>\"\n",
    "                      f\"Producto: {estacion['Producto']}<br>\"\n",
    "                      f\"Precio: ${estacion['Precio']:,}\",\n",
    "                tooltip=estacion['Estacion']\n",
    "            ).add_to(mapa)\n",
    "\n",
    "    # Guardar el mapa como un archivo HTML\n",
    "    mapa.save(\"mapa_estaciones.html\")\n",
    "\n",
    "    print(\"\\n¡Mapa generado con éxito! Busca el archivo 'mapa_estaciones.html' en tu carpeta.\")\n",
    "\n",
    "except FileNotFoundError:\n",
    "    print(\"Error: No se pudo encontrar el archivo 'estaciones_mapa.xlsx'.\")\n",
    "    print(\"Por favor, asegúrate de haber subido el archivo y que el nombre sea exacto.\")\n",
    "except Exception as e:\n",
    "    print(f\"Ocurrió un error: {e}\")"
   ]
  },
  {
   "cell_type": "code",
   "execution_count": null,
   "id": "b5272365-a873-4c7f-9484-b7af6a9d051b",
   "metadata": {},
   "outputs": [],
   "source": []
  }
 ],
 "metadata": {
  "kernelspec": {
   "display_name": "Python 3 (ipykernel)",
   "language": "python",
   "name": "python3"
  },
  "language_info": {
   "codemirror_mode": {
    "name": "ipython",
    "version": 3
   },
   "file_extension": ".py",
   "mimetype": "text/x-python",
   "name": "python",
   "nbconvert_exporter": "python",
   "pygments_lexer": "ipython3",
   "version": "3.11.5"
  }
 },
 "nbformat": 4,
 "nbformat_minor": 5
}
